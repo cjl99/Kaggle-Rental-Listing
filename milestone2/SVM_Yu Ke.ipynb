{
 "cells": [
  {
   "cell_type": "code",
   "execution_count": 68,
   "metadata": {},
   "outputs": [],
   "source": [
    "import pandas as pd\n",
    "\n",
    "\n",
    "train_df = pd.read_json('new_data.json')\n",
    "\n",
    "train_df[\"num_photos\"] = train_df[\"photos\"].apply(len)\n",
    "train_df[\"num_features\"] = train_df[\"features\"].apply(len)\n",
    "train_df[\"num_description\"] = train_df[\"description\"].apply(len)\n",
    "train_df[\"created\"] = pd.to_datetime(train_df[\"created\"])\n",
    "train_df[\"created_year\"] = train_df[\"created\"].dt.year\n",
    "train_df[\"created_month\"] = train_df[\"created\"].dt.month\n",
    "train_df[\"created_day\"] = train_df[\"created\"].dt.day\n",
    "# train_df.head(100)"
   ]
  },
  {
   "cell_type": "code",
   "execution_count": 69,
   "metadata": {},
   "outputs": [
    {
     "data": {
      "text/plain": [
       "Index(['bathrooms', 'bedrooms', 'building_id', 'created', 'description',\n",
       "       'display_address', 'features', 'latitude', 'listing_id', 'longitude',\n",
       "       'manager_id', 'photos', 'price', 'street_address', 'interest_level',\n",
       "       'num_photos', 'num_features', 'num_description', 'created_year',\n",
       "       'created_month', 'created_day'],\n",
       "      dtype='object')"
      ]
     },
     "execution_count": 69,
     "metadata": {},
     "output_type": "execute_result"
    }
   ],
   "source": [
    "column = train_df.columns\n",
    "column"
   ]
  },
  {
   "cell_type": "code",
   "execution_count": 70,
   "metadata": {},
   "outputs": [],
   "source": [
    "latitudeMean = train_df['latitude'].mean()\n",
    "longitudeMean = train_df['longitude'].mean()"
   ]
  },
  {
   "cell_type": "code",
   "execution_count": 71,
   "metadata": {},
   "outputs": [],
   "source": [
    "from geopy import distance"
   ]
  },
  {
   "cell_type": "code",
   "execution_count": 72,
   "metadata": {},
   "outputs": [
    {
     "data": {
      "text/plain": [
       "(40.75186182911392, -73.97414270675107)"
      ]
     },
     "execution_count": 72,
     "metadata": {},
     "output_type": "execute_result"
    }
   ],
   "source": [
    "site_coords=(latitudeMean, longitudeMean)\n",
    "site_coords"
   ]
  },
  {
   "cell_type": "code",
   "execution_count": 73,
   "metadata": {},
   "outputs": [],
   "source": [
    "train_df['distance'] = train_df.apply(lambda row:distance.distance(site_coords, (row.latitude, row.longitude)).km, axis=1)"
   ]
  },
  {
   "cell_type": "code",
   "execution_count": 74,
   "metadata": {},
   "outputs": [],
   "source": [
    "num_feats = [\"bathrooms\", \"bedrooms\", \"latitude\", \"longitude\", \"price\",\n",
    "             \"num_photos\", \"num_features\", \"num_description\",\n",
    "             \"created_year\", \"created_month\", \"created_day\"]\n",
    "num_feats = [\"bathrooms\", \"bedrooms\",'distance','price',\"num_photos\", \"num_features\", \"num_description\",\n",
    "             \"created_year\", \"created_month\", \"created_day\"]\n",
    "#num_feats = ['bathrooms', \"bedrooms\",'distance','price']\n",
    "Y = pd.DataFrame()\n",
    "X = train_df[num_feats]\n",
    "Y['interest_level'] = train_df['interest_level']\n",
    "# X.head(2)"
   ]
  },
  {
   "cell_type": "code",
   "execution_count": 75,
   "metadata": {},
   "outputs": [],
   "source": [
    "X.to_csv(\"KYdata/test_x.csv\", index=False)\n",
    "Y.to_csv(\"KYdata/test_y.csv\", index=False)\n"
   ]
  },
  {
   "cell_type": "code",
   "execution_count": 76,
   "metadata": {},
   "outputs": [],
   "source": [
    "from sklearn import svm\n",
    "from sklearn.model_selection import train_test_split\n",
    "\n",
    "from sklearn import metrics\n",
    "\n",
    "X_train, X_test, y_train, y_test =train_test_split(X, Y, test_size=0.33)"
   ]
  },
  {
   "cell_type": "code",
   "execution_count": 77,
   "metadata": {},
   "outputs": [
    {
     "name": "stdout",
     "output_type": "stream",
     "text": [
      "0.5404040404040404\n",
      "0.5362113483216827\n"
     ]
    }
   ],
   "source": [
    "clf = svm.SVC(kernel='sigmoid', C=1,probability=True).fit(X_train, y_train.values.ravel())\n",
    "print(clf.score(X_test, y_test))\n",
    "print(clf.score(X_train, y_train))"
   ]
  },
  {
   "cell_type": "code",
   "execution_count": 78,
   "metadata": {},
   "outputs": [],
   "source": [
    "# from sklearn.model_selection import cross_val_score\n",
    "\n",
    "# classifier = svm.SVC(kernel='rbf', C=1,probability=True)\n",
    "# scores = cross_val_score(classifier, X, Y, cv=5)\n",
    "# scores"
   ]
  },
  {
   "cell_type": "code",
   "execution_count": 79,
   "metadata": {},
   "outputs": [],
   "source": [
    "# print(\"Accuracy : %0.3f (+/- %0.4f )\" % (scores.mean(), scores.std()*2))"
   ]
  },
  {
   "cell_type": "code",
   "execution_count": 80,
   "metadata": {},
   "outputs": [],
   "source": [
    "# from sklearn.model_selection import KFold\n",
    "# kf = KFold(n_splits = 3)\n",
    "# kf"
   ]
  },
  {
   "cell_type": "code",
   "execution_count": 81,
   "metadata": {},
   "outputs": [
    {
     "name": "stdout",
     "output_type": "stream",
     "text": [
      "(74659, 14)\n"
     ]
    }
   ],
   "source": [
    "df = pd.read_json(open(\"test.json\", \"r\"))\n",
    "print(df.shape)\n",
    "df[\"num_photos\"] = df[\"photos\"].apply(len)\n",
    "df[\"num_features\"] = df[\"features\"].apply(len)\n",
    "df[\"num_description\"] = df[\"description\"].apply(lambda x: len(x.split(\" \")))\n",
    "df[\"created\"] = pd.to_datetime(df[\"created\"])\n",
    "df[\"created_year\"] = df[\"created\"].dt.year\n",
    "df[\"created_month\"] = df[\"created\"].dt.month\n",
    "df[\"created_day\"] = df[\"created\"].dt.day"
   ]
  },
  {
   "cell_type": "code",
   "execution_count": 82,
   "metadata": {},
   "outputs": [
    {
     "name": "stdout",
     "output_type": "stream",
     "text": [
      "40.73505991775942\n",
      "-73.94528190974967\n"
     ]
    }
   ],
   "source": [
    "latitudeMean = df['latitude'].mean()\n",
    "print(latitudeMean)\n",
    "longitudeMean = df['longitude'].mean()\n",
    "print(longitudeMean)\n",
    "site_coords=(latitudeMean, longitudeMean)\n",
    "df['distance'] =df.apply(lambda row:distance.distance(site_coords, (row.latitude, row.longitude)).km, axis=1)"
   ]
  },
  {
   "cell_type": "code",
   "execution_count": 83,
   "metadata": {},
   "outputs": [
    {
     "data": {
      "text/plain": [
       "Index(['bathrooms', 'bedrooms', 'building_id', 'created', 'description',\n",
       "       'display_address', 'features', 'latitude', 'listing_id', 'longitude',\n",
       "       'manager_id', 'photos', 'price', 'street_address', 'num_photos',\n",
       "       'num_features', 'num_description', 'created_year', 'created_month',\n",
       "       'created_day', 'distance'],\n",
       "      dtype='object')"
      ]
     },
     "execution_count": 83,
     "metadata": {},
     "output_type": "execute_result"
    }
   ],
   "source": [
    "column = df.columns\n",
    "column"
   ]
  },
  {
   "cell_type": "code",
   "execution_count": 84,
   "metadata": {},
   "outputs": [],
   "source": [
    "# num_feats = [\"bathrooms\", \"bedrooms\",\"latitude\", \"longitude\",'distance','price','num_photos', 'num_features','num_description','created_month','created_day']\n",
    "test_listingID = pd.DataFrame()\n",
    "test_x=df[num_feats] \n",
    "test_listingID['listing_id'] = df['listing_id']\n",
    "test_x.to_csv(\"KYdata/traget_x.csv\", index=False)\n",
    "test_listingID.to_csv(\"KYdata/target_listing.csv\", index=False)\n"
   ]
  },
  {
   "cell_type": "code",
   "execution_count": 85,
   "metadata": {},
   "outputs": [
    {
     "data": {
      "text/html": [
       "<div>\n",
       "<style scoped>\n",
       "    .dataframe tbody tr th:only-of-type {\n",
       "        vertical-align: middle;\n",
       "    }\n",
       "\n",
       "    .dataframe tbody tr th {\n",
       "        vertical-align: top;\n",
       "    }\n",
       "\n",
       "    .dataframe thead th {\n",
       "        text-align: right;\n",
       "    }\n",
       "</style>\n",
       "<table border=\"1\" class=\"dataframe\">\n",
       "  <thead>\n",
       "    <tr style=\"text-align: right;\">\n",
       "      <th></th>\n",
       "      <th>listing_id</th>\n",
       "    </tr>\n",
       "  </thead>\n",
       "  <tbody>\n",
       "    <tr>\n",
       "      <th>0</th>\n",
       "      <td>7142618</td>\n",
       "    </tr>\n",
       "    <tr>\n",
       "      <th>1</th>\n",
       "      <td>7210040</td>\n",
       "    </tr>\n",
       "    <tr>\n",
       "      <th>2</th>\n",
       "      <td>7174566</td>\n",
       "    </tr>\n",
       "    <tr>\n",
       "      <th>3</th>\n",
       "      <td>7191391</td>\n",
       "    </tr>\n",
       "    <tr>\n",
       "      <th>5</th>\n",
       "      <td>7171695</td>\n",
       "    </tr>\n",
       "    <tr>\n",
       "      <th>...</th>\n",
       "      <td>...</td>\n",
       "    </tr>\n",
       "    <tr>\n",
       "      <th>124003</th>\n",
       "      <td>6928108</td>\n",
       "    </tr>\n",
       "    <tr>\n",
       "      <th>124005</th>\n",
       "      <td>6906674</td>\n",
       "    </tr>\n",
       "    <tr>\n",
       "      <th>124006</th>\n",
       "      <td>6897967</td>\n",
       "    </tr>\n",
       "    <tr>\n",
       "      <th>124007</th>\n",
       "      <td>6842183</td>\n",
       "    </tr>\n",
       "    <tr>\n",
       "      <th>124010</th>\n",
       "      <td>6889319</td>\n",
       "    </tr>\n",
       "  </tbody>\n",
       "</table>\n",
       "<p>74659 rows × 1 columns</p>\n",
       "</div>"
      ],
      "text/plain": [
       "        listing_id\n",
       "0          7142618\n",
       "1          7210040\n",
       "2          7174566\n",
       "3          7191391\n",
       "5          7171695\n",
       "...            ...\n",
       "124003     6928108\n",
       "124005     6906674\n",
       "124006     6897967\n",
       "124007     6842183\n",
       "124010     6889319\n",
       "\n",
       "[74659 rows x 1 columns]"
      ]
     },
     "execution_count": 85,
     "metadata": {},
     "output_type": "execute_result"
    }
   ],
   "source": [
    "test_x\n",
    "test_listingID"
   ]
  },
  {
   "cell_type": "code",
   "execution_count": 86,
   "metadata": {},
   "outputs": [
    {
     "name": "stdout",
     "output_type": "stream",
     "text": [
      "Done\n"
     ]
    }
   ],
   "source": [
    "y = clf.predict_proba(test_x)\n",
    "print(\"Done\")"
   ]
  },
  {
   "cell_type": "code",
   "execution_count": 87,
   "metadata": {},
   "outputs": [
    {
     "data": {
      "text/plain": [
       "{'high': 0, 'low': 1, 'medium': 2}"
      ]
     },
     "execution_count": 87,
     "metadata": {},
     "output_type": "execute_result"
    }
   ],
   "source": [
    "labels2idx = {label: i for i, label in enumerate(clf.classes_)}\n",
    "labels2idx"
   ]
  },
  {
   "cell_type": "code",
   "execution_count": 88,
   "metadata": {},
   "outputs": [
    {
     "data": {
      "text/html": [
       "<div>\n",
       "<style scoped>\n",
       "    .dataframe tbody tr th:only-of-type {\n",
       "        vertical-align: middle;\n",
       "    }\n",
       "\n",
       "    .dataframe tbody tr th {\n",
       "        vertical-align: top;\n",
       "    }\n",
       "\n",
       "    .dataframe thead th {\n",
       "        text-align: right;\n",
       "    }\n",
       "</style>\n",
       "<table border=\"1\" class=\"dataframe\">\n",
       "  <thead>\n",
       "    <tr style=\"text-align: right;\">\n",
       "      <th></th>\n",
       "      <th>high</th>\n",
       "      <th>medium</th>\n",
       "      <th>low</th>\n",
       "    </tr>\n",
       "  </thead>\n",
       "  <tbody>\n",
       "    <tr>\n",
       "      <th>0</th>\n",
       "      <td>0.017853</td>\n",
       "      <td>0.214116</td>\n",
       "      <td>0.768031</td>\n",
       "    </tr>\n",
       "    <tr>\n",
       "      <th>1</th>\n",
       "      <td>0.017587</td>\n",
       "      <td>0.213779</td>\n",
       "      <td>0.768634</td>\n",
       "    </tr>\n",
       "    <tr>\n",
       "      <th>2</th>\n",
       "      <td>0.019050</td>\n",
       "      <td>0.213500</td>\n",
       "      <td>0.767449</td>\n",
       "    </tr>\n",
       "    <tr>\n",
       "      <th>3</th>\n",
       "      <td>0.017702</td>\n",
       "      <td>0.213938</td>\n",
       "      <td>0.768360</td>\n",
       "    </tr>\n",
       "    <tr>\n",
       "      <th>4</th>\n",
       "      <td>0.019502</td>\n",
       "      <td>0.215512</td>\n",
       "      <td>0.764986</td>\n",
       "    </tr>\n",
       "    <tr>\n",
       "      <th>...</th>\n",
       "      <td>...</td>\n",
       "      <td>...</td>\n",
       "      <td>...</td>\n",
       "    </tr>\n",
       "    <tr>\n",
       "      <th>74654</th>\n",
       "      <td>0.029317</td>\n",
       "      <td>0.213724</td>\n",
       "      <td>0.756959</td>\n",
       "    </tr>\n",
       "    <tr>\n",
       "      <th>74655</th>\n",
       "      <td>0.032020</td>\n",
       "      <td>0.218404</td>\n",
       "      <td>0.749576</td>\n",
       "    </tr>\n",
       "    <tr>\n",
       "      <th>74656</th>\n",
       "      <td>0.018329</td>\n",
       "      <td>0.213348</td>\n",
       "      <td>0.768324</td>\n",
       "    </tr>\n",
       "    <tr>\n",
       "      <th>74657</th>\n",
       "      <td>0.636312</td>\n",
       "      <td>0.129489</td>\n",
       "      <td>0.234199</td>\n",
       "    </tr>\n",
       "    <tr>\n",
       "      <th>74658</th>\n",
       "      <td>0.041722</td>\n",
       "      <td>0.214445</td>\n",
       "      <td>0.743833</td>\n",
       "    </tr>\n",
       "  </tbody>\n",
       "</table>\n",
       "<p>74659 rows × 3 columns</p>\n",
       "</div>"
      ],
      "text/plain": [
       "           high    medium       low\n",
       "0      0.017853  0.214116  0.768031\n",
       "1      0.017587  0.213779  0.768634\n",
       "2      0.019050  0.213500  0.767449\n",
       "3      0.017702  0.213938  0.768360\n",
       "4      0.019502  0.215512  0.764986\n",
       "...         ...       ...       ...\n",
       "74654  0.029317  0.213724  0.756959\n",
       "74655  0.032020  0.218404  0.749576\n",
       "74656  0.018329  0.213348  0.768324\n",
       "74657  0.636312  0.129489  0.234199\n",
       "74658  0.041722  0.214445  0.743833\n",
       "\n",
       "[74659 rows x 3 columns]"
      ]
     },
     "execution_count": 88,
     "metadata": {},
     "output_type": "execute_result"
    }
   ],
   "source": [
    "final_test = pd.DataFrame(y, columns=['high','low','medium'])\n",
    "final_test = final_test[['high', 'medium','low']]\n",
    "final_test"
   ]
  },
  {
   "cell_type": "code",
   "execution_count": 89,
   "metadata": {},
   "outputs": [
    {
     "data": {
      "text/html": [
       "<div>\n",
       "<style scoped>\n",
       "    .dataframe tbody tr th:only-of-type {\n",
       "        vertical-align: middle;\n",
       "    }\n",
       "\n",
       "    .dataframe tbody tr th {\n",
       "        vertical-align: top;\n",
       "    }\n",
       "\n",
       "    .dataframe thead th {\n",
       "        text-align: right;\n",
       "    }\n",
       "</style>\n",
       "<table border=\"1\" class=\"dataframe\">\n",
       "  <thead>\n",
       "    <tr style=\"text-align: right;\">\n",
       "      <th></th>\n",
       "      <th>listing_id</th>\n",
       "      <th>high</th>\n",
       "      <th>medium</th>\n",
       "      <th>low</th>\n",
       "    </tr>\n",
       "  </thead>\n",
       "  <tbody>\n",
       "    <tr>\n",
       "      <th>0</th>\n",
       "      <td>7142618</td>\n",
       "      <td>0.017853</td>\n",
       "      <td>0.214116</td>\n",
       "      <td>0.768031</td>\n",
       "    </tr>\n",
       "    <tr>\n",
       "      <th>1</th>\n",
       "      <td>7210040</td>\n",
       "      <td>0.017587</td>\n",
       "      <td>0.213779</td>\n",
       "      <td>0.768634</td>\n",
       "    </tr>\n",
       "    <tr>\n",
       "      <th>2</th>\n",
       "      <td>7174566</td>\n",
       "      <td>0.019050</td>\n",
       "      <td>0.213500</td>\n",
       "      <td>0.767449</td>\n",
       "    </tr>\n",
       "    <tr>\n",
       "      <th>3</th>\n",
       "      <td>7191391</td>\n",
       "      <td>0.017702</td>\n",
       "      <td>0.213938</td>\n",
       "      <td>0.768360</td>\n",
       "    </tr>\n",
       "    <tr>\n",
       "      <th>4</th>\n",
       "      <td>7171695</td>\n",
       "      <td>0.019502</td>\n",
       "      <td>0.215512</td>\n",
       "      <td>0.764986</td>\n",
       "    </tr>\n",
       "    <tr>\n",
       "      <th>...</th>\n",
       "      <td>...</td>\n",
       "      <td>...</td>\n",
       "      <td>...</td>\n",
       "      <td>...</td>\n",
       "    </tr>\n",
       "    <tr>\n",
       "      <th>74654</th>\n",
       "      <td>6928108</td>\n",
       "      <td>0.029317</td>\n",
       "      <td>0.213724</td>\n",
       "      <td>0.756959</td>\n",
       "    </tr>\n",
       "    <tr>\n",
       "      <th>74655</th>\n",
       "      <td>6906674</td>\n",
       "      <td>0.032020</td>\n",
       "      <td>0.218404</td>\n",
       "      <td>0.749576</td>\n",
       "    </tr>\n",
       "    <tr>\n",
       "      <th>74656</th>\n",
       "      <td>6897967</td>\n",
       "      <td>0.018329</td>\n",
       "      <td>0.213348</td>\n",
       "      <td>0.768324</td>\n",
       "    </tr>\n",
       "    <tr>\n",
       "      <th>74657</th>\n",
       "      <td>6842183</td>\n",
       "      <td>0.636312</td>\n",
       "      <td>0.129489</td>\n",
       "      <td>0.234199</td>\n",
       "    </tr>\n",
       "    <tr>\n",
       "      <th>74658</th>\n",
       "      <td>6889319</td>\n",
       "      <td>0.041722</td>\n",
       "      <td>0.214445</td>\n",
       "      <td>0.743833</td>\n",
       "    </tr>\n",
       "  </tbody>\n",
       "</table>\n",
       "<p>74659 rows × 4 columns</p>\n",
       "</div>"
      ],
      "text/plain": [
       "       listing_id      high    medium       low\n",
       "0         7142618  0.017853  0.214116  0.768031\n",
       "1         7210040  0.017587  0.213779  0.768634\n",
       "2         7174566  0.019050  0.213500  0.767449\n",
       "3         7191391  0.017702  0.213938  0.768360\n",
       "4         7171695  0.019502  0.215512  0.764986\n",
       "...           ...       ...       ...       ...\n",
       "74654     6928108  0.029317  0.213724  0.756959\n",
       "74655     6906674  0.032020  0.218404  0.749576\n",
       "74656     6897967  0.018329  0.213348  0.768324\n",
       "74657     6842183  0.636312  0.129489  0.234199\n",
       "74658     6889319  0.041722  0.214445  0.743833\n",
       "\n",
       "[74659 rows x 4 columns]"
      ]
     },
     "execution_count": 89,
     "metadata": {},
     "output_type": "execute_result"
    }
   ],
   "source": [
    "test_listingID.reset_index(drop=True, inplace=True)\n",
    "final_test.reset_index(drop=True, inplace=True)\n",
    "final_test = pd.concat( [test_listingID, final_test], axis=1) \n",
    "final_test"
   ]
  },
  {
   "cell_type": "code",
   "execution_count": 90,
   "metadata": {},
   "outputs": [],
   "source": [
    "final_test.to_csv(\"output/submission_OOOOKKKK.csv\", index=False)"
   ]
  },
  {
   "cell_type": "code",
   "execution_count": null,
   "metadata": {},
   "outputs": [],
   "source": []
  },
  {
   "cell_type": "code",
   "execution_count": null,
   "metadata": {},
   "outputs": [],
   "source": []
  }
 ],
 "metadata": {
  "kernelspec": {
   "display_name": "Python 3",
   "language": "python",
   "name": "python3"
  },
  "language_info": {
   "codemirror_mode": {
    "name": "ipython",
    "version": 3
   },
   "file_extension": ".py",
   "mimetype": "text/x-python",
   "name": "python",
   "nbconvert_exporter": "python",
   "pygments_lexer": "ipython3",
   "version": "3.7.6"
  }
 },
 "nbformat": 4,
 "nbformat_minor": 4
}
