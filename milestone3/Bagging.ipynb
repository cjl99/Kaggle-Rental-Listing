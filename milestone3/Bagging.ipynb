{
 "cells": [
  {
   "cell_type": "code",
   "execution_count": 1,
   "metadata": {},
   "outputs": [],
   "source": [
    "import pandas as pd\n",
    "XdataFrame = pd.read_json('JLdata/new_train.json')\n",
    "test = pd.read_json(\"JLdata/new_test.json\") "
   ]
  },
  {
   "cell_type": "code",
   "execution_count": 2,
   "metadata": {
    "scrolled": true
   },
   "outputs": [
    {
     "data": {
      "text/plain": [
       "Index(['bathrooms', 'bedrooms', 'latitude', 'listing_id', 'longitude', 'price',\n",
       "       'interest_level', 'created_month', 'created_day', 'created_hour',\n",
       "       'num_description_words', 'east', 'west', 'num_photos', 'num_features',\n",
       "       'cats_allow', 'dining_room', 'dishwash', 'dogs_allow', 'doorman',\n",
       "       'elev', 'fitness_cent', 'hardwood_floor', 'laundry_in_build',\n",
       "       'laundry_in_unit', 'no_fe', 'outdoor_spac', 'pre', 'roof_deck', 'war',\n",
       "       'distance', 'price_per_bed', 'price_per_bath', 'room_num', 'bedsPerc',\n",
       "       'bathPerc', 'num_pos', 'num_pos_density', 'num_building_id',\n",
       "       'num_manager', 'num_fremanager', 'num_price_q', 'num_priceXroom'],\n",
       "      dtype='object')"
      ]
     },
     "execution_count": 2,
     "metadata": {},
     "output_type": "execute_result"
    }
   ],
   "source": [
    "XdataFrame.columns  "
   ]
  },
  {
   "cell_type": "code",
   "execution_count": 3,
   "metadata": {},
   "outputs": [],
   "source": [
    "num_feats = ['bathrooms', 'bedrooms', 'latitude', 'longitude', 'price',\n",
    "        'created_month', 'created_day', 'created_hour',\n",
    "       'num_description_words', 'east', 'west', 'num_photos', 'num_features',\n",
    "       'cats_allow', 'dining_room', 'dishwash', 'dogs_allow', 'doorman',\n",
    "       'elev', 'fitness_cent', 'hardwood_floor', 'laundry_in_build',\n",
    "       'laundry_in_unit', 'no_fe', 'outdoor_spac', 'pre', 'roof_deck', 'war',\n",
    "       'distance', 'price_per_bed', 'price_per_bath', 'room_num', 'bedsPerc',\n",
    "       'bathPerc', 'num_pos', 'num_pos_density', 'num_building_id',\n",
    "       'num_manager', 'num_fremanager', 'num_price_q', 'num_priceXroom']\n",
    "interest=['interest_level']\n",
    "listing_id = ['listing_id']\n",
    "X = XdataFrame[num_feats]\n",
    "Y = XdataFrame[interest]\n",
    "test_x = test[num_feats]\n",
    "test_listingID = test[listing_id]\n"
   ]
  },
  {
   "cell_type": "code",
   "execution_count": 4,
   "metadata": {
    "scrolled": false
   },
   "outputs": [
    {
     "data": {
      "text/html": [
       "<div>\n",
       "<style scoped>\n",
       "    .dataframe tbody tr th:only-of-type {\n",
       "        vertical-align: middle;\n",
       "    }\n",
       "\n",
       "    .dataframe tbody tr th {\n",
       "        vertical-align: top;\n",
       "    }\n",
       "\n",
       "    .dataframe thead th {\n",
       "        text-align: right;\n",
       "    }\n",
       "</style>\n",
       "<table border=\"1\" class=\"dataframe\">\n",
       "  <thead>\n",
       "    <tr style=\"text-align: right;\">\n",
       "      <th></th>\n",
       "      <th>bathrooms</th>\n",
       "      <th>bedrooms</th>\n",
       "      <th>latitude</th>\n",
       "      <th>longitude</th>\n",
       "      <th>price</th>\n",
       "      <th>created_month</th>\n",
       "      <th>created_day</th>\n",
       "      <th>created_hour</th>\n",
       "      <th>num_description_words</th>\n",
       "      <th>east</th>\n",
       "      <th>...</th>\n",
       "      <th>room_num</th>\n",
       "      <th>bedsPerc</th>\n",
       "      <th>bathPerc</th>\n",
       "      <th>num_pos</th>\n",
       "      <th>num_pos_density</th>\n",
       "      <th>num_building_id</th>\n",
       "      <th>num_manager</th>\n",
       "      <th>num_fremanager</th>\n",
       "      <th>num_price_q</th>\n",
       "      <th>num_priceXroom</th>\n",
       "    </tr>\n",
       "  </thead>\n",
       "  <tbody>\n",
       "    <tr>\n",
       "      <th>0</th>\n",
       "      <td>1.0</td>\n",
       "      <td>1</td>\n",
       "      <td>40.7185</td>\n",
       "      <td>-73.9865</td>\n",
       "      <td>2950</td>\n",
       "      <td>6</td>\n",
       "      <td>11</td>\n",
       "      <td>5</td>\n",
       "      <td>78</td>\n",
       "      <td>0</td>\n",
       "      <td>...</td>\n",
       "      <td>2.0</td>\n",
       "      <td>0.333333</td>\n",
       "      <td>0.333333</td>\n",
       "      <td>0.370506</td>\n",
       "      <td>7</td>\n",
       "      <td>0.370506</td>\n",
       "      <td>0.370506</td>\n",
       "      <td>3.218876</td>\n",
       "      <td>8</td>\n",
       "      <td>1180.000000</td>\n",
       "    </tr>\n",
       "    <tr>\n",
       "      <th>1</th>\n",
       "      <td>1.0</td>\n",
       "      <td>2</td>\n",
       "      <td>40.7278</td>\n",
       "      <td>-74.0000</td>\n",
       "      <td>2850</td>\n",
       "      <td>6</td>\n",
       "      <td>24</td>\n",
       "      <td>6</td>\n",
       "      <td>35</td>\n",
       "      <td>0</td>\n",
       "      <td>...</td>\n",
       "      <td>3.0</td>\n",
       "      <td>0.500000</td>\n",
       "      <td>0.250000</td>\n",
       "      <td>0.409639</td>\n",
       "      <td>83</td>\n",
       "      <td>0.100557</td>\n",
       "      <td>0.370506</td>\n",
       "      <td>2.302585</td>\n",
       "      <td>7</td>\n",
       "      <td>814.285714</td>\n",
       "    </tr>\n",
       "    <tr>\n",
       "      <th>2</th>\n",
       "      <td>1.0</td>\n",
       "      <td>0</td>\n",
       "      <td>40.7260</td>\n",
       "      <td>-74.0026</td>\n",
       "      <td>2295</td>\n",
       "      <td>6</td>\n",
       "      <td>17</td>\n",
       "      <td>1</td>\n",
       "      <td>39</td>\n",
       "      <td>0</td>\n",
       "      <td>...</td>\n",
       "      <td>1.0</td>\n",
       "      <td>0.000000</td>\n",
       "      <td>0.500000</td>\n",
       "      <td>0.370506</td>\n",
       "      <td>30</td>\n",
       "      <td>0.100557</td>\n",
       "      <td>0.368988</td>\n",
       "      <td>7.788626</td>\n",
       "      <td>3</td>\n",
       "      <td>918.000000</td>\n",
       "    </tr>\n",
       "    <tr>\n",
       "      <th>3</th>\n",
       "      <td>1.0</td>\n",
       "      <td>2</td>\n",
       "      <td>40.7321</td>\n",
       "      <td>-74.0028</td>\n",
       "      <td>2900</td>\n",
       "      <td>6</td>\n",
       "      <td>21</td>\n",
       "      <td>5</td>\n",
       "      <td>22</td>\n",
       "      <td>0</td>\n",
       "      <td>...</td>\n",
       "      <td>3.0</td>\n",
       "      <td>0.500000</td>\n",
       "      <td>0.250000</td>\n",
       "      <td>0.370506</td>\n",
       "      <td>13</td>\n",
       "      <td>0.370506</td>\n",
       "      <td>0.392308</td>\n",
       "      <td>4.875197</td>\n",
       "      <td>8</td>\n",
       "      <td>828.571429</td>\n",
       "    </tr>\n",
       "    <tr>\n",
       "      <th>5</th>\n",
       "      <td>1.0</td>\n",
       "      <td>1</td>\n",
       "      <td>40.7054</td>\n",
       "      <td>-74.0095</td>\n",
       "      <td>3254</td>\n",
       "      <td>6</td>\n",
       "      <td>16</td>\n",
       "      <td>7</td>\n",
       "      <td>85</td>\n",
       "      <td>0</td>\n",
       "      <td>...</td>\n",
       "      <td>2.0</td>\n",
       "      <td>0.333333</td>\n",
       "      <td>0.333333</td>\n",
       "      <td>0.329897</td>\n",
       "      <td>97</td>\n",
       "      <td>0.389610</td>\n",
       "      <td>0.370506</td>\n",
       "      <td>3.218876</td>\n",
       "      <td>10</td>\n",
       "      <td>1301.600000</td>\n",
       "    </tr>\n",
       "    <tr>\n",
       "      <th>...</th>\n",
       "      <td>...</td>\n",
       "      <td>...</td>\n",
       "      <td>...</td>\n",
       "      <td>...</td>\n",
       "      <td>...</td>\n",
       "      <td>...</td>\n",
       "      <td>...</td>\n",
       "      <td>...</td>\n",
       "      <td>...</td>\n",
       "      <td>...</td>\n",
       "      <td>...</td>\n",
       "      <td>...</td>\n",
       "      <td>...</td>\n",
       "      <td>...</td>\n",
       "      <td>...</td>\n",
       "      <td>...</td>\n",
       "      <td>...</td>\n",
       "      <td>...</td>\n",
       "      <td>...</td>\n",
       "      <td>...</td>\n",
       "      <td>...</td>\n",
       "    </tr>\n",
       "    <tr>\n",
       "      <th>124003</th>\n",
       "      <td>1.0</td>\n",
       "      <td>1</td>\n",
       "      <td>40.7925</td>\n",
       "      <td>-73.9454</td>\n",
       "      <td>1700</td>\n",
       "      <td>4</td>\n",
       "      <td>26</td>\n",
       "      <td>16</td>\n",
       "      <td>45</td>\n",
       "      <td>0</td>\n",
       "      <td>...</td>\n",
       "      <td>2.0</td>\n",
       "      <td>0.333333</td>\n",
       "      <td>0.333333</td>\n",
       "      <td>0.370506</td>\n",
       "      <td>1</td>\n",
       "      <td>0.370506</td>\n",
       "      <td>0.370506</td>\n",
       "      <td>3.912023</td>\n",
       "      <td>0</td>\n",
       "      <td>680.000000</td>\n",
       "    </tr>\n",
       "    <tr>\n",
       "      <th>124005</th>\n",
       "      <td>1.0</td>\n",
       "      <td>2</td>\n",
       "      <td>40.7456</td>\n",
       "      <td>-73.9797</td>\n",
       "      <td>4195</td>\n",
       "      <td>4</td>\n",
       "      <td>21</td>\n",
       "      <td>5</td>\n",
       "      <td>111</td>\n",
       "      <td>0</td>\n",
       "      <td>...</td>\n",
       "      <td>3.0</td>\n",
       "      <td>0.500000</td>\n",
       "      <td>0.250000</td>\n",
       "      <td>0.460674</td>\n",
       "      <td>89</td>\n",
       "      <td>0.370506</td>\n",
       "      <td>0.238095</td>\n",
       "      <td>4.442651</td>\n",
       "      <td>15</td>\n",
       "      <td>1198.571429</td>\n",
       "    </tr>\n",
       "    <tr>\n",
       "      <th>124006</th>\n",
       "      <td>1.0</td>\n",
       "      <td>0</td>\n",
       "      <td>40.7416</td>\n",
       "      <td>-73.9829</td>\n",
       "      <td>2400</td>\n",
       "      <td>4</td>\n",
       "      <td>20</td>\n",
       "      <td>1</td>\n",
       "      <td>141</td>\n",
       "      <td>0</td>\n",
       "      <td>...</td>\n",
       "      <td>1.0</td>\n",
       "      <td>0.000000</td>\n",
       "      <td>0.500000</td>\n",
       "      <td>0.370506</td>\n",
       "      <td>10</td>\n",
       "      <td>0.100557</td>\n",
       "      <td>0.368988</td>\n",
       "      <td>7.788626</td>\n",
       "      <td>4</td>\n",
       "      <td>960.000000</td>\n",
       "    </tr>\n",
       "    <tr>\n",
       "      <th>124007</th>\n",
       "      <td>2.0</td>\n",
       "      <td>2</td>\n",
       "      <td>40.7485</td>\n",
       "      <td>-73.9800</td>\n",
       "      <td>6895</td>\n",
       "      <td>4</td>\n",
       "      <td>8</td>\n",
       "      <td>2</td>\n",
       "      <td>100</td>\n",
       "      <td>0</td>\n",
       "      <td>...</td>\n",
       "      <td>4.0</td>\n",
       "      <td>0.400000</td>\n",
       "      <td>0.400000</td>\n",
       "      <td>0.370506</td>\n",
       "      <td>21</td>\n",
       "      <td>0.370506</td>\n",
       "      <td>0.097004</td>\n",
       "      <td>6.553933</td>\n",
       "      <td>19</td>\n",
       "      <td>1723.750000</td>\n",
       "    </tr>\n",
       "    <tr>\n",
       "      <th>124010</th>\n",
       "      <td>1.0</td>\n",
       "      <td>3</td>\n",
       "      <td>40.7447</td>\n",
       "      <td>-73.9741</td>\n",
       "      <td>4695</td>\n",
       "      <td>4</td>\n",
       "      <td>18</td>\n",
       "      <td>2</td>\n",
       "      <td>58</td>\n",
       "      <td>0</td>\n",
       "      <td>...</td>\n",
       "      <td>4.0</td>\n",
       "      <td>0.600000</td>\n",
       "      <td>0.200000</td>\n",
       "      <td>0.344156</td>\n",
       "      <td>154</td>\n",
       "      <td>0.423077</td>\n",
       "      <td>0.485075</td>\n",
       "      <td>4.905275</td>\n",
       "      <td>16</td>\n",
       "      <td>1043.333333</td>\n",
       "    </tr>\n",
       "  </tbody>\n",
       "</table>\n",
       "<p>74659 rows × 41 columns</p>\n",
       "</div>"
      ],
      "text/plain": [
       "        bathrooms  bedrooms  latitude  longitude  price  created_month  \\\n",
       "0             1.0         1   40.7185   -73.9865   2950              6   \n",
       "1             1.0         2   40.7278   -74.0000   2850              6   \n",
       "2             1.0         0   40.7260   -74.0026   2295              6   \n",
       "3             1.0         2   40.7321   -74.0028   2900              6   \n",
       "5             1.0         1   40.7054   -74.0095   3254              6   \n",
       "...           ...       ...       ...        ...    ...            ...   \n",
       "124003        1.0         1   40.7925   -73.9454   1700              4   \n",
       "124005        1.0         2   40.7456   -73.9797   4195              4   \n",
       "124006        1.0         0   40.7416   -73.9829   2400              4   \n",
       "124007        2.0         2   40.7485   -73.9800   6895              4   \n",
       "124010        1.0         3   40.7447   -73.9741   4695              4   \n",
       "\n",
       "        created_day  created_hour  num_description_words  east  ...  room_num  \\\n",
       "0                11             5                     78     0  ...       2.0   \n",
       "1                24             6                     35     0  ...       3.0   \n",
       "2                17             1                     39     0  ...       1.0   \n",
       "3                21             5                     22     0  ...       3.0   \n",
       "5                16             7                     85     0  ...       2.0   \n",
       "...             ...           ...                    ...   ...  ...       ...   \n",
       "124003           26            16                     45     0  ...       2.0   \n",
       "124005           21             5                    111     0  ...       3.0   \n",
       "124006           20             1                    141     0  ...       1.0   \n",
       "124007            8             2                    100     0  ...       4.0   \n",
       "124010           18             2                     58     0  ...       4.0   \n",
       "\n",
       "        bedsPerc  bathPerc   num_pos  num_pos_density  num_building_id  \\\n",
       "0       0.333333  0.333333  0.370506                7         0.370506   \n",
       "1       0.500000  0.250000  0.409639               83         0.100557   \n",
       "2       0.000000  0.500000  0.370506               30         0.100557   \n",
       "3       0.500000  0.250000  0.370506               13         0.370506   \n",
       "5       0.333333  0.333333  0.329897               97         0.389610   \n",
       "...          ...       ...       ...              ...              ...   \n",
       "124003  0.333333  0.333333  0.370506                1         0.370506   \n",
       "124005  0.500000  0.250000  0.460674               89         0.370506   \n",
       "124006  0.000000  0.500000  0.370506               10         0.100557   \n",
       "124007  0.400000  0.400000  0.370506               21         0.370506   \n",
       "124010  0.600000  0.200000  0.344156              154         0.423077   \n",
       "\n",
       "        num_manager  num_fremanager  num_price_q  num_priceXroom  \n",
       "0          0.370506        3.218876            8     1180.000000  \n",
       "1          0.370506        2.302585            7      814.285714  \n",
       "2          0.368988        7.788626            3      918.000000  \n",
       "3          0.392308        4.875197            8      828.571429  \n",
       "5          0.370506        3.218876           10     1301.600000  \n",
       "...             ...             ...          ...             ...  \n",
       "124003     0.370506        3.912023            0      680.000000  \n",
       "124005     0.238095        4.442651           15     1198.571429  \n",
       "124006     0.368988        7.788626            4      960.000000  \n",
       "124007     0.097004        6.553933           19     1723.750000  \n",
       "124010     0.485075        4.905275           16     1043.333333  \n",
       "\n",
       "[74659 rows x 41 columns]"
      ]
     },
     "execution_count": 4,
     "metadata": {},
     "output_type": "execute_result"
    }
   ],
   "source": [
    "test_x"
   ]
  },
  {
   "cell_type": "code",
   "execution_count": 5,
   "metadata": {},
   "outputs": [
    {
     "data": {
      "text/html": [
       "<div>\n",
       "<style scoped>\n",
       "    .dataframe tbody tr th:only-of-type {\n",
       "        vertical-align: middle;\n",
       "    }\n",
       "\n",
       "    .dataframe tbody tr th {\n",
       "        vertical-align: top;\n",
       "    }\n",
       "\n",
       "    .dataframe thead th {\n",
       "        text-align: right;\n",
       "    }\n",
       "</style>\n",
       "<table border=\"1\" class=\"dataframe\">\n",
       "  <thead>\n",
       "    <tr style=\"text-align: right;\">\n",
       "      <th></th>\n",
       "      <th>interest_level</th>\n",
       "    </tr>\n",
       "  </thead>\n",
       "  <tbody>\n",
       "    <tr>\n",
       "      <th>4</th>\n",
       "      <td>1</td>\n",
       "    </tr>\n",
       "    <tr>\n",
       "      <th>6</th>\n",
       "      <td>0</td>\n",
       "    </tr>\n",
       "    <tr>\n",
       "      <th>9</th>\n",
       "      <td>1</td>\n",
       "    </tr>\n",
       "    <tr>\n",
       "      <th>10</th>\n",
       "      <td>1</td>\n",
       "    </tr>\n",
       "    <tr>\n",
       "      <th>15</th>\n",
       "      <td>0</td>\n",
       "    </tr>\n",
       "    <tr>\n",
       "      <th>...</th>\n",
       "      <td>...</td>\n",
       "    </tr>\n",
       "    <tr>\n",
       "      <th>123998</th>\n",
       "      <td>0</td>\n",
       "    </tr>\n",
       "    <tr>\n",
       "      <th>124000</th>\n",
       "      <td>0</td>\n",
       "    </tr>\n",
       "    <tr>\n",
       "      <th>124002</th>\n",
       "      <td>1</td>\n",
       "    </tr>\n",
       "    <tr>\n",
       "      <th>124008</th>\n",
       "      <td>1</td>\n",
       "    </tr>\n",
       "    <tr>\n",
       "      <th>124009</th>\n",
       "      <td>2</td>\n",
       "    </tr>\n",
       "  </tbody>\n",
       "</table>\n",
       "<p>47400 rows × 1 columns</p>\n",
       "</div>"
      ],
      "text/plain": [
       "        interest_level\n",
       "4                    1\n",
       "6                    0\n",
       "9                    1\n",
       "10                   1\n",
       "15                   0\n",
       "...                ...\n",
       "123998               0\n",
       "124000               0\n",
       "124002               1\n",
       "124008               1\n",
       "124009               2\n",
       "\n",
       "[47400 rows x 1 columns]"
      ]
     },
     "execution_count": 5,
     "metadata": {},
     "output_type": "execute_result"
    }
   ],
   "source": [
    "Y"
   ]
  },
  {
   "cell_type": "code",
   "execution_count": 10,
   "metadata": {},
   "outputs": [
    {
     "name": "stderr",
     "output_type": "stream",
     "text": [
      "/usr/local/lib/python3.7/site-packages/sklearn/ensemble/_bagging.py:645: DataConversionWarning: A column-vector y was passed when a 1d array was expected. Please change the shape of y to (n_samples, ), for example using ravel().\n",
      "  y = column_or_1d(y, warn=True)\n"
     ]
    },
    {
     "name": "stdout",
     "output_type": "stream",
     "text": [
      "Done\n"
     ]
    },
    {
     "name": "stderr",
     "output_type": "stream",
     "text": [
      "/usr/local/lib/python3.7/site-packages/sklearn/ensemble/_bagging.py:645: DataConversionWarning: A column-vector y was passed when a 1d array was expected. Please change the shape of y to (n_samples, ), for example using ravel().\n",
      "  y = column_or_1d(y, warn=True)\n"
     ]
    },
    {
     "name": "stdout",
     "output_type": "stream",
     "text": [
      "Done\n"
     ]
    },
    {
     "name": "stderr",
     "output_type": "stream",
     "text": [
      "/usr/local/lib/python3.7/site-packages/sklearn/ensemble/_bagging.py:645: DataConversionWarning: A column-vector y was passed when a 1d array was expected. Please change the shape of y to (n_samples, ), for example using ravel().\n",
      "  y = column_or_1d(y, warn=True)\n"
     ]
    },
    {
     "name": "stdout",
     "output_type": "stream",
     "text": [
      "Done\n"
     ]
    },
    {
     "name": "stderr",
     "output_type": "stream",
     "text": [
      "/usr/local/lib/python3.7/site-packages/sklearn/ensemble/_bagging.py:645: DataConversionWarning: A column-vector y was passed when a 1d array was expected. Please change the shape of y to (n_samples, ), for example using ravel().\n",
      "  y = column_or_1d(y, warn=True)\n"
     ]
    },
    {
     "name": "stdout",
     "output_type": "stream",
     "text": [
      "Done\n"
     ]
    },
    {
     "name": "stderr",
     "output_type": "stream",
     "text": [
      "/usr/local/lib/python3.7/site-packages/sklearn/ensemble/_bagging.py:645: DataConversionWarning: A column-vector y was passed when a 1d array was expected. Please change the shape of y to (n_samples, ), for example using ravel().\n",
      "  y = column_or_1d(y, warn=True)\n"
     ]
    },
    {
     "name": "stdout",
     "output_type": "stream",
     "text": [
      "Done\n"
     ]
    },
    {
     "name": "stderr",
     "output_type": "stream",
     "text": [
      "/usr/local/lib/python3.7/site-packages/sklearn/ensemble/_bagging.py:645: DataConversionWarning: A column-vector y was passed when a 1d array was expected. Please change the shape of y to (n_samples, ), for example using ravel().\n",
      "  y = column_or_1d(y, warn=True)\n"
     ]
    },
    {
     "name": "stdout",
     "output_type": "stream",
     "text": [
      "Done\n"
     ]
    },
    {
     "name": "stderr",
     "output_type": "stream",
     "text": [
      "/usr/local/lib/python3.7/site-packages/sklearn/ensemble/_bagging.py:645: DataConversionWarning: A column-vector y was passed when a 1d array was expected. Please change the shape of y to (n_samples, ), for example using ravel().\n",
      "  y = column_or_1d(y, warn=True)\n"
     ]
    },
    {
     "name": "stdout",
     "output_type": "stream",
     "text": [
      "Done\n"
     ]
    },
    {
     "name": "stderr",
     "output_type": "stream",
     "text": [
      "/usr/local/lib/python3.7/site-packages/sklearn/ensemble/_bagging.py:645: DataConversionWarning: A column-vector y was passed when a 1d array was expected. Please change the shape of y to (n_samples, ), for example using ravel().\n",
      "  y = column_or_1d(y, warn=True)\n"
     ]
    },
    {
     "name": "stdout",
     "output_type": "stream",
     "text": [
      "Done\n"
     ]
    },
    {
     "name": "stderr",
     "output_type": "stream",
     "text": [
      "/usr/local/lib/python3.7/site-packages/sklearn/ensemble/_bagging.py:645: DataConversionWarning: A column-vector y was passed when a 1d array was expected. Please change the shape of y to (n_samples, ), for example using ravel().\n",
      "  y = column_or_1d(y, warn=True)\n"
     ]
    },
    {
     "name": "stdout",
     "output_type": "stream",
     "text": [
      "Done\n"
     ]
    },
    {
     "name": "stderr",
     "output_type": "stream",
     "text": [
      "/usr/local/lib/python3.7/site-packages/sklearn/ensemble/_bagging.py:645: DataConversionWarning: A column-vector y was passed when a 1d array was expected. Please change the shape of y to (n_samples, ), for example using ravel().\n",
      "  y = column_or_1d(y, warn=True)\n"
     ]
    },
    {
     "name": "stdout",
     "output_type": "stream",
     "text": [
      "Done\n",
      "________________________\n",
      "scores.Mean()= 0.7091983122362869\n",
      "[0.7181434599156118, 0.7139240506329114, 0.7052742616033755, 0.6985232067510548, 0.7135021097046413, 0.7008438818565401, 0.7183544303797469, 0.7151898734177216, 0.7059071729957805, 0.7023206751054852]\n"
     ]
    }
   ],
   "source": [
    "from sklearn.ensemble import BaggingClassifier\n",
    "from sklearn.neighbors import KNeighborsClassifier\n",
    "from sklearn.model_selection import KFold\n",
    "import numpy as np\n",
    "clf=[]\n",
    "scores = []\n",
    "best_clf = BaggingClassifier(KNeighborsClassifier(n_neighbors=9),n_estimators=100,max_samples=0.5, max_features=0.5)\n",
    "cv = KFold(10,True,1)\n",
    "for train_index, test_index in cv.split(X):\n",
    "    X_train, X_test, y_train, y_test = X.iloc[train_index], X.iloc[test_index], Y.iloc[train_index], Y.iloc[test_index]\n",
    "    best_clf.fit(X_train, y_train)\n",
    "    scores.append(best_clf.score(X_test, y_test))\n",
    "    clf.append(best_clf)\n",
    "    print(\"Done\")\n",
    "print(\"________________________\")\n",
    "print('scores.Mean()=',np.mean(scores))\n",
    "print(scores)\n",
    "\n",
    "# clf.fit(X, Y)"
   ]
  },
  {
   "cell_type": "code",
   "execution_count": 13,
   "metadata": {},
   "outputs": [
    {
     "data": {
      "text/plain": [
       "array([0, 1, 2])"
      ]
     },
     "execution_count": 13,
     "metadata": {},
     "output_type": "execute_result"
    }
   ],
   "source": [
    "clf[6].classes_"
   ]
  },
  {
   "cell_type": "code",
   "execution_count": 14,
   "metadata": {
    "scrolled": false
   },
   "outputs": [
    {
     "data": {
      "text/plain": [
       "array([[0.68333333, 0.21444444, 0.10222222],\n",
       "       [0.59888889, 0.28555556, 0.11555556],\n",
       "       [0.79      , 0.18222222, 0.02777778],\n",
       "       ...,\n",
       "       [0.67333333, 0.28222222, 0.04444444],\n",
       "       [0.91555556, 0.08333333, 0.00111111],\n",
       "       [0.65888889, 0.25222222, 0.08888889]])"
      ]
     },
     "execution_count": 14,
     "metadata": {},
     "output_type": "execute_result"
    }
   ],
   "source": [
    "y= clf[6].predict_proba(test_x)\n",
    "y"
   ]
  },
  {
   "cell_type": "code",
   "execution_count": 15,
   "metadata": {
    "scrolled": false
   },
   "outputs": [
    {
     "data": {
      "text/html": [
       "<div>\n",
       "<style scoped>\n",
       "    .dataframe tbody tr th:only-of-type {\n",
       "        vertical-align: middle;\n",
       "    }\n",
       "\n",
       "    .dataframe tbody tr th {\n",
       "        vertical-align: top;\n",
       "    }\n",
       "\n",
       "    .dataframe thead th {\n",
       "        text-align: right;\n",
       "    }\n",
       "</style>\n",
       "<table border=\"1\" class=\"dataframe\">\n",
       "  <thead>\n",
       "    <tr style=\"text-align: right;\">\n",
       "      <th></th>\n",
       "      <th>listing_id</th>\n",
       "      <th>high</th>\n",
       "      <th>medium</th>\n",
       "      <th>low</th>\n",
       "    </tr>\n",
       "  </thead>\n",
       "  <tbody>\n",
       "    <tr>\n",
       "      <th>0</th>\n",
       "      <td>7142618</td>\n",
       "      <td>0.102222</td>\n",
       "      <td>0.214444</td>\n",
       "      <td>0.683333</td>\n",
       "    </tr>\n",
       "    <tr>\n",
       "      <th>1</th>\n",
       "      <td>7210040</td>\n",
       "      <td>0.115556</td>\n",
       "      <td>0.285556</td>\n",
       "      <td>0.598889</td>\n",
       "    </tr>\n",
       "    <tr>\n",
       "      <th>2</th>\n",
       "      <td>7174566</td>\n",
       "      <td>0.027778</td>\n",
       "      <td>0.182222</td>\n",
       "      <td>0.790000</td>\n",
       "    </tr>\n",
       "    <tr>\n",
       "      <th>3</th>\n",
       "      <td>7191391</td>\n",
       "      <td>0.117778</td>\n",
       "      <td>0.301111</td>\n",
       "      <td>0.581111</td>\n",
       "    </tr>\n",
       "    <tr>\n",
       "      <th>4</th>\n",
       "      <td>7171695</td>\n",
       "      <td>0.050000</td>\n",
       "      <td>0.224444</td>\n",
       "      <td>0.725556</td>\n",
       "    </tr>\n",
       "    <tr>\n",
       "      <th>...</th>\n",
       "      <td>...</td>\n",
       "      <td>...</td>\n",
       "      <td>...</td>\n",
       "      <td>...</td>\n",
       "    </tr>\n",
       "    <tr>\n",
       "      <th>74654</th>\n",
       "      <td>6928108</td>\n",
       "      <td>0.245556</td>\n",
       "      <td>0.464444</td>\n",
       "      <td>0.290000</td>\n",
       "    </tr>\n",
       "    <tr>\n",
       "      <th>74655</th>\n",
       "      <td>6906674</td>\n",
       "      <td>0.020000</td>\n",
       "      <td>0.165556</td>\n",
       "      <td>0.814444</td>\n",
       "    </tr>\n",
       "    <tr>\n",
       "      <th>74656</th>\n",
       "      <td>6897967</td>\n",
       "      <td>0.044444</td>\n",
       "      <td>0.282222</td>\n",
       "      <td>0.673333</td>\n",
       "    </tr>\n",
       "    <tr>\n",
       "      <th>74657</th>\n",
       "      <td>6842183</td>\n",
       "      <td>0.001111</td>\n",
       "      <td>0.083333</td>\n",
       "      <td>0.915556</td>\n",
       "    </tr>\n",
       "    <tr>\n",
       "      <th>74658</th>\n",
       "      <td>6889319</td>\n",
       "      <td>0.088889</td>\n",
       "      <td>0.252222</td>\n",
       "      <td>0.658889</td>\n",
       "    </tr>\n",
       "  </tbody>\n",
       "</table>\n",
       "<p>74659 rows × 4 columns</p>\n",
       "</div>"
      ],
      "text/plain": [
       "       listing_id      high    medium       low\n",
       "0         7142618  0.102222  0.214444  0.683333\n",
       "1         7210040  0.115556  0.285556  0.598889\n",
       "2         7174566  0.027778  0.182222  0.790000\n",
       "3         7191391  0.117778  0.301111  0.581111\n",
       "4         7171695  0.050000  0.224444  0.725556\n",
       "...           ...       ...       ...       ...\n",
       "74654     6928108  0.245556  0.464444  0.290000\n",
       "74655     6906674  0.020000  0.165556  0.814444\n",
       "74656     6897967  0.044444  0.282222  0.673333\n",
       "74657     6842183  0.001111  0.083333  0.915556\n",
       "74658     6889319  0.088889  0.252222  0.658889\n",
       "\n",
       "[74659 rows x 4 columns]"
      ]
     },
     "execution_count": 15,
     "metadata": {},
     "output_type": "execute_result"
    }
   ],
   "source": [
    "final_test = pd.DataFrame(y, columns=['low','medium','high'])\n",
    "final_test = final_test[['high', 'medium','low']]\n",
    "test_listingID.reset_index(drop=True, inplace=True)\n",
    "final_test.reset_index(drop=True, inplace=True)\n",
    "final_test = pd.concat( [test_listingID, final_test], axis=1) \n",
    "final_test"
   ]
  },
  {
   "cell_type": "code",
   "execution_count": 17,
   "metadata": {},
   "outputs": [],
   "source": [
    "final_test.to_csv(\"output/Submission7.csv\", index=False)"
   ]
  },
  {
   "cell_type": "code",
   "execution_count": null,
   "metadata": {},
   "outputs": [],
   "source": []
  },
  {
   "cell_type": "code",
   "execution_count": null,
   "metadata": {},
   "outputs": [],
   "source": []
  }
 ],
 "metadata": {
  "kernelspec": {
   "display_name": "Python 3",
   "language": "python",
   "name": "python3"
  },
  "language_info": {
   "codemirror_mode": {
    "name": "ipython",
    "version": 3
   },
   "file_extension": ".py",
   "mimetype": "text/x-python",
   "name": "python",
   "nbconvert_exporter": "python",
   "pygments_lexer": "ipython3",
   "version": "3.7.6"
  }
 },
 "nbformat": 4,
 "nbformat_minor": 4
}
